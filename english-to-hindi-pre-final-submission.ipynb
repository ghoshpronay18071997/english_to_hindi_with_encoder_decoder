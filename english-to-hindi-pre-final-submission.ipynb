{
 "cells": [
  {
   "cell_type": "markdown",
   "metadata": {
    "id": "deSKbeo2gvxI"
   },
   "source": [
    "<center><img src=\"https://github.com/insaid2018/Term-1/blob/master/Images/INSAID_Full%20Logo.png?raw=true\" width=\"360\" height=\"160\" /></center>\n",
    "\n",
    "# <center>**English to Hindi Translation using Encoders and Decoders**</center>"
   ]
  },
  {
   "cell_type": "markdown",
   "metadata": {
    "id": "kH7bpqVNgyEq"
   },
   "source": [
    "## **Table of Contents**\n",
    "\n",
    "1. [**Problem Statement**](#Section1)<br>\n",
    "2. [**Installing & Importing Libraries**](#Section2)<br>\n",
    " - 2.1 [**Installing Libraries**](#Section21)<br>\n",
    " - 2.2 [**Upgrading Libraries**](#Section22)<br>\n",
    " - 2.2 [**Importing Libraries**](#Section23)<br>\n",
    "3. [**Loading Data**](#Section3)<br>\n",
    "4. [**Data Acquistition and Description**](#Section4)<br>\n",
    "5. [**Data Exploration**](#Section5)<br>\n",
    "  - 5.1 [**Exploratory Data Analysis**](#Section502)<br>\n",
    "  - 5.2 [**Data Preprocessing**](#Section501)<br>\n",
    "6. [**Data PostProcessing and Feature Engineering**](#Section6)<br>\n",
    "7. [**Model Building**](#Section7)<br>\n",
    "8. [**Test set**](#Section8)<br>\n",
    "9. [**Conclusion**](#Section9)<br>"
   ]
  },
  {
   "cell_type": "markdown",
   "metadata": {
    "id": "hPD9K0PdhEEV"
   },
   "source": [
    "---\n",
    "<a name=Section1></a>\n",
    "# **1. Problem Statement**\n",
    "---\n",
    "\n",
    "- **Natural Language Processing** in **Artificial Intelligence** is the application of computational techniques to the analysis and synthesis of natural language and speech.\n",
    "\n",
    "- In this project the objective is **to deliver the hindi translation of the english text** that has been given in the dataset.\n",
    "\n",
    "<center><img src=\"https://www.techrounder.com/wp-content/uploads/2020/11/english-hindi-translation.jpg\" height= 400 width=1000 ></center>\n",
    "\n",
    "# **Scenario:**\n",
    "\n",
    "- You are working as a **NLP Engineer** in a technical start-up who have onboarded this project from one of their clients.\n",
    "\n",
    "- Your objective is to deliver the **Best fit model** as per the project deliverables are concerned.\n",
    "\n",
    "- You are supposed to deliver **Quality** in terms of making this case study.\n",
    "\n",
    "- The evaluation metric for this problem statement is set as **Accuracy.**"
   ]
  },
  {
   "cell_type": "markdown",
   "metadata": {
    "id": "TNByQ7MShHVU"
   },
   "source": [
    "<a id=section2></a>\n",
    "\n",
    "---\n",
    "# **2.Installing & Importing Libraries**\n",
    "---"
   ]
  },
  {
   "cell_type": "markdown",
   "metadata": {
    "id": "0Y7C5qKRhJQa"
   },
   "source": [
    "<a name = Section21></a>\n",
    "### **2.1 Installing Libraries**"
   ]
  },
  {
   "cell_type": "code",
   "execution_count": 1,
   "metadata": {
    "execution": {
     "iopub.execute_input": "2021-11-10T06:43:14.737372Z",
     "iopub.status.busy": "2021-11-10T06:43:14.736793Z",
     "iopub.status.idle": "2021-11-10T06:43:14.749866Z",
     "shell.execute_reply": "2021-11-10T06:43:14.749142Z",
     "shell.execute_reply.started": "2021-11-10T06:43:14.737261Z"
    },
    "id": "nra4Y5tUgrsL",
    "outputId": "df97fdd7-90db-4d5e-83ec-b89772b36a2c"
   },
   "outputs": [],
   "source": [
    "# import sys                                                          # Importing System\n",
    "# !{sys.executable} -m pip install -U pandas-profiling[notebook]      # Installing pandas profiling\n",
    "# !jupyter nbextension enable --py widgetsnbextension                 # enabling python notebook extention"
   ]
  },
  {
   "cell_type": "code",
   "execution_count": 2,
   "metadata": {
    "execution": {
     "iopub.execute_input": "2021-11-10T06:43:14.751841Z",
     "iopub.status.busy": "2021-11-10T06:43:14.751341Z",
     "iopub.status.idle": "2021-11-10T06:43:14.755398Z",
     "shell.execute_reply": "2021-11-10T06:43:14.754765Z",
     "shell.execute_reply.started": "2021-11-10T06:43:14.751804Z"
    },
    "id": "MqgkOotGhQkY",
    "outputId": "ca004ec1-8906-4f72-882e-c7b70484c428"
   },
   "outputs": [],
   "source": [
    "# !pip install -q datascience                                         # Package that is required by pandas profiling\n",
    "# !pip install -q pandas-profiling                                    # Library to generate basic statistics about data\n",
    "# !pip install -q catboost                                            # Installing Catboost \n",
    "# !pip install -q xgboost                                             # Installing XGBoost\n",
    "# !pip install pandas==0.19.2                                         # Installing stable version of pandas    "
   ]
  },
  {
   "cell_type": "markdown",
   "metadata": {
    "id": "hNGhJCFwhZje"
   },
   "source": [
    "<a name = Section22></a>\n",
    "### **2.2 Upgrading Libraries**\n",
    "\n",
    "- **After upgrading** the libraries, you need to **restart the runtime** to make the libraries in sync. \n",
    "\n",
    "- Make sure not to execute the cell above (2.1) and below (2.2) again after restarting the runtime."
   ]
  },
  {
   "cell_type": "code",
   "execution_count": 3,
   "metadata": {
    "execution": {
     "iopub.execute_input": "2021-11-10T06:43:14.775336Z",
     "iopub.status.busy": "2021-11-10T06:43:14.775059Z",
     "iopub.status.idle": "2021-11-10T06:43:14.780329Z",
     "shell.execute_reply": "2021-11-10T06:43:14.779459Z",
     "shell.execute_reply.started": "2021-11-10T06:43:14.775309Z"
    },
    "id": "SpMs_dwRhZ0-"
   },
   "outputs": [],
   "source": [
    "# !pip install pandas-profiling -q --upgrade                         # upgrading pandas profiling"
   ]
  },
  {
   "cell_type": "markdown",
   "metadata": {
    "id": "_pnpsTikhfqQ"
   },
   "source": [
    "<a name = Section23></a>\n",
    "### **2.3 Importing Libraries**"
   ]
  },
  {
   "cell_type": "code",
   "execution_count": 4,
   "metadata": {
    "execution": {
     "iopub.execute_input": "2021-11-10T06:43:14.824741Z",
     "iopub.status.busy": "2021-11-10T06:43:14.824476Z",
     "iopub.status.idle": "2021-11-10T06:43:23.737603Z",
     "shell.execute_reply": "2021-11-10T06:43:23.736857Z",
     "shell.execute_reply.started": "2021-11-10T06:43:14.824714Z"
    },
    "id": "D0L8ImRRhf6x"
   },
   "outputs": [],
   "source": [
    "#-------------------------------------------------------------------------------------------------------------------------------\n",
    "import pandas as pd                                                             # Importing for panel data analysis\n",
    "from pandas_profiling import ProfileReport                                      # Importing Pandas Profiling (To generate Univariate Analysis)\n",
    "pd.set_option('display.max_columns', None)                                      # Unfolding hidden features if the cardinality is high\n",
    "pd.set_option('display.max_colwidth', None)                                     # Unfolding the max feature width for better clearity\n",
    "pd.set_option('display.max_rows', None)                                         # Unfolding hidden data points if the cardinality is high\n",
    "pd.set_option('mode.chained_assignment', None)                                  # Removing restriction over chained assignments operations\n",
    "pd.set_option('display.float_format', lambda x: '%.5f' % x)                     # To suppress scientific notation over exponential values\n",
    "#-------------------------------------------------------------------------------------------------------------------------------\n",
    "import numpy as np                                                              # Importing package numpys (For Numerical Python)\n",
    "from datetime import datetime as dt                                             # For datetime funcationality\n",
    "#-------------------------------------------------------------------------------------------------------------------------------\n",
    "import matplotlib.pyplot as plt                                                 # Importing pyplot interface of matplotlib\n",
    "import seaborn as sns                                                           # Importing seaborn library for interactive visualization\n",
    "%matplotlib inline\n",
    "#-------------------------------------------------------------------------------------------------------------------------------\n",
    "import plotly.express as ex                                                     # Importing Plotly Express for Dynamic Plotting\n",
    "import plotly.graph_objs as go                                                  # Importing Plotly graphs for Dynamic Plotting\n",
    "import plotly.offline as pyo                                                    # Importing offline Express for Dynamic Plotting\n",
    "from plotly.subplots import make_subplots                                       # Importing Plotly Subplots to plot Dynamic subplots\n",
    "#-------------------------------------------------------------------------------------------------------------------------------\n",
    "import warnings                                                                 # Importing warning to disable runtime warnings\n",
    "warnings.filterwarnings(\"ignore\")                                               # Warnings will appear only once\n",
    "#-------------------------------------------------------------------------------------------------------------------------------\n",
    "import plotly.figure_factory as ff                                              # Calling the figure factory to create unique chart types\n",
    "#-------------------------------------------------------------------------------------------------------------------------------\n",
    "import configparser                                                             # Importing Configparser for modifying configration of the script\n",
    "#-------------------------------------------------------------------------------------------------------------------------------\n",
    "from sklearn.model_selection import train_test_split, GridSearchCV              # Importing GridSearchCV\n",
    "from sklearn.metrics import accuracy_score, make_scorer,f1_score,recall_score   # Importing KPI's(Key Perfromence Indicators or Performence metrics) \n",
    "#-------------------------------------------------------------------------------------------------------------------------------\n",
    "import os                                                                       # Importing OS  \n",
    "import string                                                                   # Importing Striong     \n",
    "from string import digits                                                       # Importing digits \n",
    "import re                                                                       # Importing Regular Expressions \n",
    "#-------------------------------------------------------------------------------------------------------------------------------\n",
    "from sklearn.utils import shuffle                                               # Importing shuffle                \n",
    "from keras.layers import Input, LSTM, Embedding, Dense                          # Importing i/p , LSTM, Embedding and Dense Layers\n",
    "from keras.models import Model                                                  # Importing models"
   ]
  },
  {
   "cell_type": "markdown",
   "metadata": {
    "id": "LMFjxA0ihkNJ"
   },
   "source": [
    "---\n",
    "<a id=section3></a>\n",
    "# **3. Loading Data**\n",
    "---"
   ]
  },
  {
   "cell_type": "code",
   "execution_count": 5,
   "metadata": {
    "execution": {
     "iopub.execute_input": "2021-11-10T06:43:23.741386Z",
     "iopub.status.busy": "2021-11-10T06:43:23.741185Z",
     "iopub.status.idle": "2021-11-10T06:43:24.990666Z",
     "shell.execute_reply": "2021-11-10T06:43:24.989957Z",
     "shell.execute_reply.started": "2021-11-10T06:43:23.741362Z"
    },
    "id": "KR3NriUjhkd5",
    "outputId": "42f06c61-3a87-4531-c975-dd947e3f4c9c"
   },
   "outputs": [
    {
     "name": "stdout",
     "output_type": "stream",
     "text": [
      "Data Shape is: (127607, 3)\n"
     ]
    },
    {
     "data": {
      "text/html": [
       "<div>\n",
       "<style scoped>\n",
       "    .dataframe tbody tr th:only-of-type {\n",
       "        vertical-align: middle;\n",
       "    }\n",
       "\n",
       "    .dataframe tbody tr th {\n",
       "        vertical-align: top;\n",
       "    }\n",
       "\n",
       "    .dataframe thead th {\n",
       "        text-align: right;\n",
       "    }\n",
       "</style>\n",
       "<table border=\"1\" class=\"dataframe\">\n",
       "  <thead>\n",
       "    <tr style=\"text-align: right;\">\n",
       "      <th></th>\n",
       "      <th>source</th>\n",
       "      <th>english_sentence</th>\n",
       "      <th>hindi_sentence</th>\n",
       "    </tr>\n",
       "  </thead>\n",
       "  <tbody>\n",
       "    <tr>\n",
       "      <th>0</th>\n",
       "      <td>ted</td>\n",
       "      <td>politicians do not have permission to do what needs to be done.</td>\n",
       "      <td>राजनीतिज्ञों के पास जो कार्य करना चाहिए, वह करने कि अनुमति नहीं है .</td>\n",
       "    </tr>\n",
       "    <tr>\n",
       "      <th>1</th>\n",
       "      <td>ted</td>\n",
       "      <td>I'd like to tell you about one such child,</td>\n",
       "      <td>मई आपको ऐसे ही एक बच्चे के बारे में बताना चाहूंगी,</td>\n",
       "    </tr>\n",
       "    <tr>\n",
       "      <th>2</th>\n",
       "      <td>indic2012</td>\n",
       "      <td>This percentage is even greater than the percentage in India.</td>\n",
       "      <td>यह प्रतिशत भारत में हिन्दुओं प्रतिशत से अधिक है।</td>\n",
       "    </tr>\n",
       "    <tr>\n",
       "      <th>3</th>\n",
       "      <td>ted</td>\n",
       "      <td>what we really mean is that they're bad at not paying attention.</td>\n",
       "      <td>हम ये नहीं कहना चाहते कि वो ध्यान नहीं दे पाते</td>\n",
       "    </tr>\n",
       "    <tr>\n",
       "      <th>4</th>\n",
       "      <td>indic2012</td>\n",
       "      <td>.The ending portion of these Vedas is called Upanishad.</td>\n",
       "      <td>इन्हीं वेदों का अंतिम भाग उपनिषद कहलाता है।</td>\n",
       "    </tr>\n",
       "  </tbody>\n",
       "</table>\n",
       "</div>"
      ],
      "text/plain": [
       "      source  \\\n",
       "0        ted   \n",
       "1        ted   \n",
       "2  indic2012   \n",
       "3        ted   \n",
       "4  indic2012   \n",
       "\n",
       "                                                   english_sentence  \\\n",
       "0   politicians do not have permission to do what needs to be done.   \n",
       "1                        I'd like to tell you about one such child,   \n",
       "2     This percentage is even greater than the percentage in India.   \n",
       "3  what we really mean is that they're bad at not paying attention.   \n",
       "4           .The ending portion of these Vedas is called Upanishad.   \n",
       "\n",
       "                                                         hindi_sentence  \n",
       "0  राजनीतिज्ञों के पास जो कार्य करना चाहिए, वह करने कि अनुमति नहीं है .  \n",
       "1                    मई आपको ऐसे ही एक बच्चे के बारे में बताना चाहूंगी,  \n",
       "2                      यह प्रतिशत भारत में हिन्दुओं प्रतिशत से अधिक है।  \n",
       "3                        हम ये नहीं कहना चाहते कि वो ध्यान नहीं दे पाते  \n",
       "4                           इन्हीं वेदों का अंतिम भाग उपनिषद कहलाता है।  "
      ]
     },
     "execution_count": 5,
     "metadata": {},
     "output_type": "execute_result"
    }
   ],
   "source": [
    "data =pd.read_csv(\"../input/hindienglish-corpora/Hindi_English_Truncated_Corpus.csv\",encoding='utf-8')\n",
    "print(\"Data Shape is:\", data.shape)\n",
    "data.head()"
   ]
  },
  {
   "cell_type": "markdown",
   "metadata": {
    "id": "PQ2YZLhBhl_5"
   },
   "source": [
    "<a id=section4></a>\n",
    "\n",
    "---\n",
    "# **4. Data Acquistition and Description**\n",
    "---\n"
   ]
  },
  {
   "cell_type": "markdown",
   "metadata": {
    "id": "HHlpdLRDhpR1"
   },
   "source": [
    "<a name = Section41></a>\n",
    "### **4.1 Data Description**\n",
    "\n",
    "- In this section we will get **information about the data** and see some observations.\n",
    "\n",
    "The following is the description of the entire dataset. For reference you can visit <a href=\"https://www.kaggle.com/aiswaryaramachandran/hindienglish-corpora\">**here**</a>. \n",
    "\n",
    "<br>\n",
    "\n",
    "| Records | Features | Dataset Size |\n",
    "| :-- | :-- | :-- |\n",
    "| 127607 | 3 | 41.4 MB| \n",
    "\n",
    "<br>\n",
    "\n",
    "|**Serial**|**Name of the Feature**|**Description**|\n",
    "| :-- | :-- | :-- |\n",
    "|1|Source| Three types of sources are there ted, tides and indic2012|\n",
    "|2|english_sentence| Sentences in english|\n",
    "|3|hindi_sentence| translation of hindi formed from sentences in english|"
   ]
  },
  {
   "cell_type": "code",
   "execution_count": 6,
   "metadata": {
    "execution": {
     "iopub.execute_input": "2021-11-10T06:43:24.992607Z",
     "iopub.status.busy": "2021-11-10T06:43:24.992127Z",
     "iopub.status.idle": "2021-11-10T06:43:25.199148Z",
     "shell.execute_reply": "2021-11-10T06:43:25.198421Z",
     "shell.execute_reply.started": "2021-11-10T06:43:24.992569Z"
    },
    "id": "oIv1eiDvhn5a",
    "outputId": "adab818f-c4c7-4e94-e125-be30745f5cea"
   },
   "outputs": [
    {
     "data": {
      "text/html": [
       "<div>\n",
       "<style scoped>\n",
       "    .dataframe tbody tr th:only-of-type {\n",
       "        vertical-align: middle;\n",
       "    }\n",
       "\n",
       "    .dataframe tbody tr th {\n",
       "        vertical-align: top;\n",
       "    }\n",
       "\n",
       "    .dataframe thead th {\n",
       "        text-align: right;\n",
       "    }\n",
       "</style>\n",
       "<table border=\"1\" class=\"dataframe\">\n",
       "  <thead>\n",
       "    <tr style=\"text-align: right;\">\n",
       "      <th></th>\n",
       "      <th>source</th>\n",
       "      <th>english_sentence</th>\n",
       "      <th>hindi_sentence</th>\n",
       "    </tr>\n",
       "  </thead>\n",
       "  <tbody>\n",
       "    <tr>\n",
       "      <th>count</th>\n",
       "      <td>127607</td>\n",
       "      <td>127605</td>\n",
       "      <td>127607</td>\n",
       "    </tr>\n",
       "    <tr>\n",
       "      <th>unique</th>\n",
       "      <td>3</td>\n",
       "      <td>124317</td>\n",
       "      <td>97662</td>\n",
       "    </tr>\n",
       "    <tr>\n",
       "      <th>top</th>\n",
       "      <td>tides</td>\n",
       "      <td>(Laughter)</td>\n",
       "      <td>(हँसी)</td>\n",
       "    </tr>\n",
       "    <tr>\n",
       "      <th>freq</th>\n",
       "      <td>50000</td>\n",
       "      <td>555</td>\n",
       "      <td>212</td>\n",
       "    </tr>\n",
       "  </tbody>\n",
       "</table>\n",
       "</div>"
      ],
      "text/plain": [
       "        source english_sentence hindi_sentence\n",
       "count   127607           127605         127607\n",
       "unique       3           124317          97662\n",
       "top      tides       (Laughter)         (हँसी)\n",
       "freq     50000              555            212"
      ]
     },
     "execution_count": 6,
     "metadata": {},
     "output_type": "execute_result"
    }
   ],
   "source": [
    "data.describe()"
   ]
  },
  {
   "cell_type": "markdown",
   "metadata": {
    "id": "c5Nvtm8Ahsex"
   },
   "source": [
    "### **Observation:**\n",
    "\n",
    "- There are total **3 unique catetgories** for **source**.\n",
    "\n",
    "- **tides** has the highest freq of **50000**.\n",
    "\n",
    "- **124317** datapoints are unique for **english_sentence**.\n",
    "\n",
    "- **97662** datapoints are unique for **hindi_sentence**."
   ]
  },
  {
   "cell_type": "markdown",
   "metadata": {
    "id": "mIMveklvhwO6"
   },
   "source": [
    "<a name = Section42></a>\n",
    "### **4.2 Data Information**\n",
    "\n",
    "- In this section we will see the **information about the types of features**."
   ]
  },
  {
   "cell_type": "code",
   "execution_count": 7,
   "metadata": {
    "execution": {
     "iopub.execute_input": "2021-11-10T06:43:25.202363Z",
     "iopub.status.busy": "2021-11-10T06:43:25.202159Z",
     "iopub.status.idle": "2021-11-10T06:43:25.257934Z",
     "shell.execute_reply": "2021-11-10T06:43:25.257203Z",
     "shell.execute_reply.started": "2021-11-10T06:43:25.202338Z"
    },
    "id": "_B8WbLN8huDF",
    "outputId": "c0a6f4e0-b218-4ff1-c4d7-d8b8ee0b52b7"
   },
   "outputs": [
    {
     "name": "stdout",
     "output_type": "stream",
     "text": [
      "<class 'pandas.core.frame.DataFrame'>\n",
      "RangeIndex: 127607 entries, 0 to 127606\n",
      "Data columns (total 3 columns):\n",
      " #   Column            Non-Null Count   Dtype \n",
      "---  ------            --------------   ----- \n",
      " 0   source            127607 non-null  object\n",
      " 1   english_sentence  127605 non-null  object\n",
      " 2   hindi_sentence    127607 non-null  object\n",
      "dtypes: object(3)\n",
      "memory usage: 2.9+ MB\n"
     ]
    }
   ],
   "source": [
    "data.info()"
   ]
  },
  {
   "cell_type": "markdown",
   "metadata": {
    "id": "_Bu4gDblhzjw"
   },
   "source": [
    "### **Observations:**\n",
    "\n",
    "- All the three features are of **object** data-type.\n",
    "\n",
    "- For this data there is no need to check **data inconsistancy**."
   ]
  },
  {
   "cell_type": "markdown",
   "metadata": {
    "id": "VEi6XZ1sh2Ub"
   },
   "source": [
    "<a name = Section5></a>\n",
    "\n",
    "---\n",
    "# **5. Data Profiling**\n",
    "---"
   ]
  },
  {
   "cell_type": "markdown",
   "metadata": {
    "id": "h23YArd2jwHG"
   },
   "source": [
    "<a name = Section51></a>\n",
    "### **5.1 Pre Profiling Report**\n",
    "\n",
    "- For **quick analysis** pandas profiling is very handy.\n",
    "\n",
    "- Generates profile reports from a pandas DataFrame.\n",
    "\n",
    "- For each column **statistics** are presented in an interactive HTML report."
   ]
  },
  {
   "cell_type": "code",
   "execution_count": 8,
   "metadata": {
    "execution": {
     "iopub.execute_input": "2021-11-10T06:43:25.259768Z",
     "iopub.status.busy": "2021-11-10T06:43:25.259333Z",
     "iopub.status.idle": "2021-11-10T06:43:25.263061Z",
     "shell.execute_reply": "2021-11-10T06:43:25.262290Z",
     "shell.execute_reply.started": "2021-11-10T06:43:25.259730Z"
    },
    "id": "Zgazh-OYhzxk"
   },
   "outputs": [],
   "source": [
    "# # Making Pre-profiling report for train data\n",
    "# profile = ProfileReport(data)\n",
    "# # profile.to_file(output_file='Pre_Profiling_Report.html')\n",
    "# print('Accomplished!')\n",
    "# profile"
   ]
  },
  {
   "cell_type": "markdown",
   "metadata": {
    "id": "bvcnGaFHj0es"
   },
   "source": [
    "### **Observations:**\n",
    "\n",
    "- **50,000 source** datapoints **tides** categorized as **tides**.\n",
    "\n",
    "- **39,881 source** datapoints **tides** categorized as **ted**.\n",
    "\n",
    "- **37,726 source** datapoints **tides** categorized as **indic2012**\n",
    "\n",
    "- Though **other values** have the highest freq however, **laughter** has distictly appeared most of the times.\n",
    "\n",
    "- Though **other values** have the highest freq however, **(हँसी)**  has distictly appeared most of the times.  \n",
    "\n",
    "- **english_sentence** has 2 null values.\n",
    "\n",
    "- We can treat the following feature(s) with the solution given for our further analysis.\n",
    "\n",
    "<br>\n",
    "\n",
    "|Feature|Data Type|Missing Count|Solution\n",
    "|:--:|:--:|:--:|:--|\n",
    "english_sentence | object | 2 | Treat with logical NOT replacement. | Train Data |\n"
   ]
  },
  {
   "cell_type": "markdown",
   "metadata": {
    "id": "YQqe4Vcckp3V"
   },
   "source": [
    "<a id=section51></a>\n",
    "\n",
    "---\n",
    "# **6. Data Preprocessing**\n",
    "---"
   ]
  },
  {
   "cell_type": "code",
   "execution_count": 9,
   "metadata": {
    "execution": {
     "iopub.execute_input": "2021-11-10T06:43:25.264831Z",
     "iopub.status.busy": "2021-11-10T06:43:25.264432Z",
     "iopub.status.idle": "2021-11-10T06:43:25.298467Z",
     "shell.execute_reply": "2021-11-10T06:43:25.297835Z",
     "shell.execute_reply.started": "2021-11-10T06:43:25.264794Z"
    },
    "id": "YKRFvSRPj0_y"
   },
   "outputs": [],
   "source": [
    "# Replacing missing values using logical NOT. \n",
    "data=data[~pd.isnull(data['english_sentence'])]"
   ]
  },
  {
   "cell_type": "code",
   "execution_count": 10,
   "metadata": {
    "execution": {
     "iopub.execute_input": "2021-11-10T06:43:25.300207Z",
     "iopub.status.busy": "2021-11-10T06:43:25.299923Z",
     "iopub.status.idle": "2021-11-10T06:43:25.348239Z",
     "shell.execute_reply": "2021-11-10T06:43:25.347532Z",
     "shell.execute_reply.started": "2021-11-10T06:43:25.300171Z"
    },
    "id": "n-bOOB0ElFfW",
    "outputId": "8633f611-85f2-41ad-e2fa-1e289b6c256d"
   },
   "outputs": [
    {
     "data": {
      "text/plain": [
       "source              0\n",
       "english_sentence    0\n",
       "hindi_sentence      0\n",
       "dtype: int64"
      ]
     },
     "execution_count": 10,
     "metadata": {},
     "output_type": "execute_result"
    }
   ],
   "source": [
    "data.isnull().sum()"
   ]
  },
  {
   "cell_type": "markdown",
   "metadata": {
    "id": "KMIBXDbQlBMn"
   },
   "source": [
    "### **Observations:**\n",
    "\n",
    "- Since there are no missing values, and the data is in correct format we can now proceed with the EDA."
   ]
  },
  {
   "cell_type": "markdown",
   "metadata": {
    "id": "m9ruQWwElLEx"
   },
   "source": [
    "<a id=section52></a>\n",
    "\n",
    "---\n",
    "# **7 Exploratory Data Analysis**\n",
    "---"
   ]
  },
  {
   "cell_type": "markdown",
   "metadata": {
    "id": "BrNJGrxOlPLu"
   },
   "source": [
    "### **Question:** What insights can be drawn from **source** ?"
   ]
  },
  {
   "cell_type": "code",
   "execution_count": 11,
   "metadata": {
    "execution": {
     "iopub.execute_input": "2021-11-10T06:43:25.350435Z",
     "iopub.status.busy": "2021-11-10T06:43:25.349547Z",
     "iopub.status.idle": "2021-11-10T06:43:26.684089Z",
     "shell.execute_reply": "2021-11-10T06:43:26.683389Z",
     "shell.execute_reply.started": "2021-11-10T06:43:25.350396Z"
    },
    "id": "-k1l4uPVlBtZ",
    "outputId": "b1a8c44b-3f69-47a2-bc75-80e6f8589f6a"
   },
   "outputs": [
    {
     "data": {
      "image/png": "[encoded data removed]",
      "text/plain": [
       "<Figure size 432x288 with 1 Axes>"
      ]
     },
     "metadata": {
      "needs_background": "light"
     },
     "output_type": "display_data"
    }
   ],
   "source": [
    "sns.countplot(y=data['source'])\n",
    "plt.grid(b=True)\n",
    "plt.show()"
   ]
  },
  {
   "cell_type": "markdown",
   "metadata": {
    "id": "iL4TdIvolSqk"
   },
   "source": [
    "**Observations:**\n",
    "\n",
    "- The maximum number of records for **source** is registered under thhe category **tides**.\n",
    "\n",
    "- The highest freqeuncy for **tides** is nearly **4000**.\n",
    "\n",
    "- The minimum number of records for **source** is registered under thhe category **indic2012**.\n",
    "\n",
    "- The highest freqeuncy for **indic2012** lies in between **2500 to 3000**."
   ]
  },
  {
   "cell_type": "markdown",
   "metadata": {
    "id": "D6Qm16vIlVYS"
   },
   "source": [
    "**<h4>Question:** What is the relation in between **length of english_sentences** and **length of hindi_sentences?** </h4>\n"
   ]
  },
  {
   "cell_type": "code",
   "execution_count": 12,
   "metadata": {
    "execution": {
     "iopub.execute_input": "2021-11-10T06:43:26.686703Z",
     "iopub.status.busy": "2021-11-10T06:43:26.685271Z",
     "iopub.status.idle": "2021-11-10T06:43:27.706475Z",
     "shell.execute_reply": "2021-11-10T06:43:27.705495Z",
     "shell.execute_reply.started": "2021-11-10T06:43:26.686662Z"
    },
    "id": "g9rpBCXblS2-",
    "outputId": "88eb35e9-3b3d-4eb0-876f-e6da50502b07"
   },
   "outputs": [
    {
     "data": {
      "image/png": "[encoded data removed]",
      "text/plain": [
       "<Figure size 720x432 with 1 Axes>"
      ]
     },
     "metadata": {
      "needs_background": "light"
     },
     "output_type": "display_data"
    }
   ],
   "source": [
    "# Defining the english sentence length and hindi sentence length\n",
    "length_of_english = data['english_sentence'].apply(lambda x:len(x.split(\" \")))\n",
    "length_of_hindi = data['hindi_sentence'].apply(lambda x:len(x.split(\" \")))\n",
    "\n",
    "# Plotting the plots\n",
    "plt.figure(figsize=(10,6))\n",
    "plt.title('length_of_english VS length_of_hindi')\n",
    "plt.scatter(length_of_english,\n",
    "            length_of_hindi,\n",
    "            c='orange')\n",
    "plt.xlabel('length_of_english')\n",
    "plt.ylabel('length_of_hindi')\n",
    "plt.grid()\n",
    "plt.show()"
   ]
  },
  {
   "cell_type": "markdown",
   "metadata": {
    "id": "1VzxJr7Rlj7u"
   },
   "source": [
    "**Observations:**\n",
    "\n",
    "- Most of the datapoints have have **<50 words**.\n",
    "\n",
    "- As the length of the **english sentence increases** so does the **length of the hindi sentence.**\n",
    "\n",
    "- Sentences with **word count>=100** are very less and hencem they can be avoided."
   ]
  },
  {
   "cell_type": "markdown",
   "metadata": {
    "id": "eVdv_TD-lmFP"
   },
   "source": [
    "**<h4>Question:** What is the relation in between **source** and **length of english sentences**? </h4>\n"
   ]
  },
  {
   "cell_type": "code",
   "execution_count": 13,
   "metadata": {
    "execution": {
     "iopub.execute_input": "2021-11-10T06:43:27.710278Z",
     "iopub.status.busy": "2021-11-10T06:43:27.710067Z",
     "iopub.status.idle": "2021-11-10T06:43:28.543122Z",
     "shell.execute_reply": "2021-11-10T06:43:28.542401Z",
     "shell.execute_reply.started": "2021-11-10T06:43:27.710252Z"
    },
    "id": "opNMx90IlkLi",
    "outputId": "550c54f2-04ff-483e-869f-23eaf3b79b38"
   },
   "outputs": [
    {
     "data": {
      "image/png": "[encoded data removed]",
      "text/plain": [
       "<Figure size 720x432 with 1 Axes>"
      ]
     },
     "metadata": {
      "needs_background": "light"
     },
     "output_type": "display_data"
    }
   ],
   "source": [
    "# Making a new dataframe\n",
    "length_of_english = data['english_sentence'].apply(lambda x:len(x.split(\" \")))\n",
    "length_of_hindi = data['hindi_sentence'].apply(lambda x:len(x.split(\" \")))\n",
    "\n",
    "# Making a new dataframe\n",
    "plt.figure(figsize=(10,6))\n",
    "plt.title('length_of_english VS length_of_hindi')\n",
    "plt.scatter(data['source'],length_of_english)\n",
    "plt.grid()\n",
    "plt.show()"
   ]
  },
  {
   "cell_type": "markdown",
   "metadata": {
    "id": "e7n3lotolqLg"
   },
   "source": [
    "**Observations:**\n",
    "\n",
    "- **Indic2012** has the records for most of the english_sentencecs.\n",
    "\n",
    "- The **highest length** of an english sentence is also found under the class name **indic2012** for **source**.\n",
    "\n",
    "- **ted** holds the least number of records for english_sentencecs.\n",
    "\n",
    "- The **lowest length** of an english sentence is also found under the class name **ted** for **source**.\n"
   ]
  },
  {
   "cell_type": "markdown",
   "metadata": {
    "id": "FfJaOMH-lsJK"
   },
   "source": [
    "**<h4>Question:** What is the relation in between **source** and **length of hindi sentences**? </h4>\n"
   ]
  },
  {
   "cell_type": "code",
   "execution_count": 14,
   "metadata": {
    "execution": {
     "iopub.execute_input": "2021-11-10T06:43:28.544888Z",
     "iopub.status.busy": "2021-11-10T06:43:28.544446Z",
     "iopub.status.idle": "2021-11-10T06:43:29.174197Z",
     "shell.execute_reply": "2021-11-10T06:43:29.173409Z",
     "shell.execute_reply.started": "2021-11-10T06:43:28.544850Z"
    },
    "id": "HOufI393lqb9",
    "outputId": "2cb79c61-c5d1-4a73-957b-64e57d006ec7"
   },
   "outputs": [
    {
     "data": {
      "image/png": "[encoded data removed]",
      "text/plain": [
       "<Figure size 720x432 with 1 Axes>"
      ]
     },
     "metadata": {
      "needs_background": "light"
     },
     "output_type": "display_data"
    }
   ],
   "source": [
    "# Defining the length of hindi words\n",
    "length_of_hindi = data['hindi_sentence'].apply(lambda x:len(x.split(\" \")))\n",
    "\n",
    "# Plotting the figure\n",
    "plt.figure(figsize=(10,6))\n",
    "plt.title('length_of_english VS length_of_hindi')\n",
    "plt.scatter(data['source'],length_of_hindi)\n",
    "plt.grid()\n",
    "plt.show()"
   ]
  },
  {
   "cell_type": "markdown",
   "metadata": {
    "id": "Bpjq7xN3l4HO"
   },
   "source": [
    "**Observations:**\n",
    "\n",
    "- The **highest length** of an **hindi sentence** is found under the class name **indic2012** for **source**.\n",
    "\n",
    "- The **lowest length** of a hindi sentence is found under the class name **ted** for **source**.\n",
    "\n",
    "- Hence, we will be considering only **ted** for the **source**."
   ]
  },
  {
   "cell_type": "markdown",
   "metadata": {
    "id": "OEoXFoyGl6T-"
   },
   "source": [
    "<a id=section6></a>\n",
    "\n",
    "---\n",
    "# **8 Data Post Processing**\n",
    "---"
   ]
  },
  {
   "cell_type": "markdown",
   "metadata": {
    "id": "iAnpoY7sov_r"
   },
   "source": [
    "<a id=section51></a>\n",
    "\n",
    "---\n",
    "## **8.1 Data cleaning**\n",
    "---\n",
    "\n",
    "- Here we will extract new information from the features and format the data accordingly."
   ]
  },
  {
   "cell_type": "code",
   "execution_count": 15,
   "metadata": {
    "execution": {
     "iopub.execute_input": "2021-11-10T06:43:29.176127Z",
     "iopub.status.busy": "2021-11-10T06:43:29.175863Z",
     "iopub.status.idle": "2021-11-10T06:43:30.184045Z",
     "shell.execute_reply": "2021-11-10T06:43:30.183222Z",
     "shell.execute_reply.started": "2021-11-10T06:43:29.176092Z"
    },
    "id": "TFcrBosll4YS",
    "outputId": "9c188ccf-5a53-4515-a75c-65b876a0513a"
   },
   "outputs": [
    {
     "name": "stdout",
     "output_type": "stream",
     "text": [
      "The length of all the english words are: 14030\n",
      "The length of all the hindi words are: 17540\n"
     ]
    }
   ],
   "source": [
    "# Shrinking the dataset in order to avoid any overfitting.\n",
    "data=data[data['source']=='ted']\n",
    "\n",
    "# Dropping duplicates\n",
    "data.drop_duplicates(inplace=True)\n",
    "\n",
    "# Sampling out 25000 datapoints\n",
    "data=data.sample(n=25000,random_state=42)\n",
    "\n",
    "# Lowercase all characters\n",
    "data['english_sentence']=data['english_sentence'].apply(lambda x: x.lower())\n",
    "data['hindi_sentence']=data['hindi_sentence'].apply(lambda x: x.lower())\n",
    "\n",
    "# Remove quotes\n",
    "data['english_sentence']=data['english_sentence'].apply(lambda x: re.sub(\"'\", '', x))\n",
    "data['hindi_sentence']=data['hindi_sentence'].apply(lambda x: re.sub(\"'\", '', x))\n",
    "\n",
    "# Set of all special characters\n",
    "exclude = set(string.punctuation)\n",
    "\n",
    "# Remove all the special characters\n",
    "data['english_sentence']=data['english_sentence'].apply(lambda x: ''.join(ch for ch in x if ch not in exclude))\n",
    "data['hindi_sentence']=data['hindi_sentence'].apply(lambda x: ''.join(ch for ch in x if ch not in exclude))\n",
    "\n",
    "# Remove all numbers from text\n",
    "remove_digits = str.maketrans('', '', digits)\n",
    "data['english_sentence']=data['english_sentence'].apply(lambda x: x.translate(remove_digits))\n",
    "data['hindi_sentence']=data['hindi_sentence'].apply(lambda x: x.translate(remove_digits))\n",
    "\n",
    "data['hindi_sentence'] = data['hindi_sentence'].apply(lambda x: re.sub(\"[२३०८१५७९४६]\", \"\", x))\n",
    "\n",
    "# Remove extra spaces\n",
    "data['english_sentence']=data['english_sentence'].apply(lambda x: x.strip())\n",
    "data['hindi_sentence']=data['hindi_sentence'].apply(lambda x: x.strip())\n",
    "data['english_sentence']=data['english_sentence'].apply(lambda x: re.sub(\" +\", \" \", x))\n",
    "data['hindi_sentence']=data['hindi_sentence'].apply(lambda x: re.sub(\" +\", \" \", x))\n",
    "\n",
    "\n",
    "# Add start and end tokens to target sequences\n",
    "data['hindi_sentence'] = data['hindi_sentence'].apply(lambda x : 'START_ '+ x + ' _END')\n",
    "\n",
    "\n",
    "### Get English and Hindi Vocabulary\n",
    "all_eng_words=set()\n",
    "for eng in data['english_sentence']:\n",
    "    for word in eng.split():\n",
    "        if word not in all_eng_words:\n",
    "            all_eng_words.add(word)\n",
    "\n",
    "all_hindi_words=set()\n",
    "for hin in data['hindi_sentence']:\n",
    "    for word in hin.split():\n",
    "        if word not in all_hindi_words:\n",
    "            all_hindi_words.add(word)\n",
    "\n",
    "print('The length of all the english words are:', len(all_eng_words))\n",
    "print('The length of all the hindi words are:', len(all_hindi_words))"
   ]
  },
  {
   "cell_type": "markdown",
   "metadata": {
    "id": "MaV1-9B0pEG7"
   },
   "source": [
    "<a id=section51></a>\n",
    "\n",
    "---\n",
    "## **8.2 Feature genaration**\n",
    "---\n",
    "\n",
    "- Here we will come up with new features from the existing features of our data."
   ]
  },
  {
   "cell_type": "code",
   "execution_count": 16,
   "metadata": {
    "execution": {
     "iopub.execute_input": "2021-11-10T06:43:30.185447Z",
     "iopub.status.busy": "2021-11-10T06:43:30.185187Z",
     "iopub.status.idle": "2021-11-10T06:43:30.249040Z",
     "shell.execute_reply": "2021-11-10T06:43:30.248352Z",
     "shell.execute_reply.started": "2021-11-10T06:43:30.185413Z"
    },
    "id": "zf-da29Vmt2Y"
   },
   "outputs": [],
   "source": [
    "data['length_eng_sentence']=data['english_sentence'].apply(lambda x:len(x.split(\" \")))\n",
    "data['length_hin_sentence']=data['hindi_sentence'].apply(lambda x:len(x.split(\" \")))"
   ]
  },
  {
   "cell_type": "code",
   "execution_count": 17,
   "metadata": {
    "execution": {
     "iopub.execute_input": "2021-11-10T06:43:30.250330Z",
     "iopub.status.busy": "2021-11-10T06:43:30.250097Z",
     "iopub.status.idle": "2021-11-10T06:43:30.260218Z",
     "shell.execute_reply": "2021-11-10T06:43:30.259385Z",
     "shell.execute_reply.started": "2021-11-10T06:43:30.250297Z"
    },
    "id": "B4P2j_KJ6FI4"
   },
   "outputs": [],
   "source": [
    "# Putting a threshold to 20 words and\n",
    "data=data[data['length_eng_sentence']<=20]\n",
    "data=data[data['length_hin_sentence']<=20]"
   ]
  },
  {
   "cell_type": "markdown",
   "metadata": {
    "id": "Vufwsdj9qJwT"
   },
   "source": [
    "<a id=section51></a>\n",
    "\n",
    "---\n",
    "## **8.3 Feature encoding**\n",
    "---\n",
    "- Here, we will encode our data into proper machine level language."
   ]
  },
  {
   "cell_type": "code",
   "execution_count": 18,
   "metadata": {
    "execution": {
     "iopub.execute_input": "2021-11-10T06:43:30.263799Z",
     "iopub.status.busy": "2021-11-10T06:43:30.263264Z",
     "iopub.status.idle": "2021-11-10T06:43:30.274228Z",
     "shell.execute_reply": "2021-11-10T06:43:30.273390Z",
     "shell.execute_reply.started": "2021-11-10T06:43:30.263771Z"
    },
    "id": "eC6S9JAzpfWe"
   },
   "outputs": [],
   "source": [
    "# Defining the maximum length for source and target\n",
    "max_length_src=max(data['length_hin_sentence'])\n",
    "max_length_tar=max(data['length_eng_sentence'])"
   ]
  },
  {
   "cell_type": "code",
   "execution_count": 19,
   "metadata": {
    "execution": {
     "iopub.execute_input": "2021-11-10T06:43:30.276372Z",
     "iopub.status.busy": "2021-11-10T06:43:30.275823Z",
     "iopub.status.idle": "2021-11-10T06:43:30.284096Z",
     "shell.execute_reply": "2021-11-10T06:43:30.282724Z",
     "shell.execute_reply.started": "2021-11-10T06:43:30.276330Z"
    },
    "id": "o5jNgcnDRLLN",
    "outputId": "2c77f1d4-3569-4af0-efd1-a6bfad56a465"
   },
   "outputs": [
    {
     "name": "stdout",
     "output_type": "stream",
     "text": [
      "20\n"
     ]
    }
   ],
   "source": [
    "print(max_length_src)"
   ]
  },
  {
   "cell_type": "code",
   "execution_count": 20,
   "metadata": {
    "execution": {
     "iopub.execute_input": "2021-11-10T06:43:30.285788Z",
     "iopub.status.busy": "2021-11-10T06:43:30.285495Z",
     "iopub.status.idle": "2021-11-10T06:43:30.311272Z",
     "shell.execute_reply": "2021-11-10T06:43:30.310462Z",
     "shell.execute_reply.started": "2021-11-10T06:43:30.285752Z"
    },
    "id": "GDlXGsiPpoVK",
    "outputId": "44e3fef7-9c1b-45b4-e136-4f7cfd9a6946"
   },
   "outputs": [
    {
     "data": {
      "text/plain": [
       "(14030, 17540)"
      ]
     },
     "execution_count": 20,
     "metadata": {},
     "output_type": "execute_result"
    }
   ],
   "source": [
    "# Making input and target words\n",
    "input_words = sorted(list(all_eng_words))\n",
    "target_words = sorted(list(all_hindi_words))\n",
    "num_encoder_tokens = len(all_eng_words)\n",
    "num_decoder_tokens = len(all_hindi_words)\n",
    "num_encoder_tokens, num_decoder_tokens"
   ]
  },
  {
   "cell_type": "code",
   "execution_count": 21,
   "metadata": {
    "execution": {
     "iopub.execute_input": "2021-11-10T06:43:30.312932Z",
     "iopub.status.busy": "2021-11-10T06:43:30.312660Z",
     "iopub.status.idle": "2021-11-10T06:43:30.348146Z",
     "shell.execute_reply": "2021-11-10T06:43:30.347422Z",
     "shell.execute_reply.started": "2021-11-10T06:43:30.312889Z"
    },
    "id": "F_d_jYDop0Bv",
    "outputId": "e3914230-b403-48bd-9bda-146c0d7f6ab9"
   },
   "outputs": [
    {
     "data": {
      "text/html": [
       "<div>\n",
       "<style scoped>\n",
       "    .dataframe tbody tr th:only-of-type {\n",
       "        vertical-align: middle;\n",
       "    }\n",
       "\n",
       "    .dataframe tbody tr th {\n",
       "        vertical-align: top;\n",
       "    }\n",
       "\n",
       "    .dataframe thead th {\n",
       "        text-align: right;\n",
       "    }\n",
       "</style>\n",
       "<table border=\"1\" class=\"dataframe\">\n",
       "  <thead>\n",
       "    <tr style=\"text-align: right;\">\n",
       "      <th></th>\n",
       "      <th>source</th>\n",
       "      <th>english_sentence</th>\n",
       "      <th>hindi_sentence</th>\n",
       "      <th>length_eng_sentence</th>\n",
       "      <th>length_hin_sentence</th>\n",
       "    </tr>\n",
       "  </thead>\n",
       "  <tbody>\n",
       "    <tr>\n",
       "      <th>25332</th>\n",
       "      <td>ted</td>\n",
       "      <td>makes you smile very often</td>\n",
       "      <td>START_ आपको भी मुस्कुराने पर मजबूर कर देते हैं _END</td>\n",
       "      <td>5</td>\n",
       "      <td>10</td>\n",
       "    </tr>\n",
       "    <tr>\n",
       "      <th>71092</th>\n",
       "      <td>ted</td>\n",
       "      <td>so where i started was with connection</td>\n",
       "      <td>START_ तो मेंने जहाँ से शुरुआत की वो था संपर्क। _END</td>\n",
       "      <td>7</td>\n",
       "      <td>11</td>\n",
       "    </tr>\n",
       "    <tr>\n",
       "      <th>2980</th>\n",
       "      <td>ted</td>\n",
       "      <td>so for example in iraq you know the war zone</td>\n",
       "      <td>START_ तो उदाहरण के लिए इराक में आप जानते है युद्ध क्षेत्र _END</td>\n",
       "      <td>10</td>\n",
       "      <td>13</td>\n",
       "    </tr>\n",
       "    <tr>\n",
       "      <th>74189</th>\n",
       "      <td>ted</td>\n",
       "      <td>with the mindset to create change</td>\n",
       "      <td>START_ जो बदलाव लाने के लिये मानसिक रूप से प्रतिबद्ध हैं। _END</td>\n",
       "      <td>6</td>\n",
       "      <td>12</td>\n",
       "    </tr>\n",
       "    <tr>\n",
       "      <th>91153</th>\n",
       "      <td>ted</td>\n",
       "      <td>or where you can trash the cup</td>\n",
       "      <td>START_ या कहाँ मैं कप को फ़ेंक सकता हूँ । _END</td>\n",
       "      <td>7</td>\n",
       "      <td>11</td>\n",
       "    </tr>\n",
       "    <tr>\n",
       "      <th>120030</th>\n",
       "      <td>ted</td>\n",
       "      <td>you can have million families or take things out of the suburbs</td>\n",
       "      <td>START_ आप लाख परिवारों को उपनगरों के बाहर ला सकते हैं _END</td>\n",
       "      <td>12</td>\n",
       "      <td>12</td>\n",
       "    </tr>\n",
       "    <tr>\n",
       "      <th>85425</th>\n",
       "      <td>ted</td>\n",
       "      <td>of men wanting a certificate</td>\n",
       "      <td>START_ आदमियों की एक प्रमाणपत्र चाहिये। _END</td>\n",
       "      <td>5</td>\n",
       "      <td>7</td>\n",
       "    </tr>\n",
       "    <tr>\n",
       "      <th>122102</th>\n",
       "      <td>ted</td>\n",
       "      <td>and ultimately it seems to me</td>\n",
       "      <td>START_ और अंत में जैसा की मैं देख रहा हु _END</td>\n",
       "      <td>6</td>\n",
       "      <td>11</td>\n",
       "    </tr>\n",
       "    <tr>\n",
       "      <th>27705</th>\n",
       "      <td>ted</td>\n",
       "      <td>if the flag was where that cross was in a small square environment</td>\n",
       "      <td>START_ अगर फ्लैग वहाँ पर था जहाँ पर क्रॉस था एक छोटे वर्गाकार वातावरण में _END</td>\n",
       "      <td>13</td>\n",
       "      <td>16</td>\n",
       "    </tr>\n",
       "    <tr>\n",
       "      <th>84265</th>\n",
       "      <td>ted</td>\n",
       "      <td>that failure is not an option</td>\n",
       "      <td>START_ कि विफलता एक विकल्प नहीं है _END</td>\n",
       "      <td>6</td>\n",
       "      <td>8</td>\n",
       "    </tr>\n",
       "  </tbody>\n",
       "</table>\n",
       "</div>"
      ],
      "text/plain": [
       "       source  \\\n",
       "25332     ted   \n",
       "71092     ted   \n",
       "2980      ted   \n",
       "74189     ted   \n",
       "91153     ted   \n",
       "120030    ted   \n",
       "85425     ted   \n",
       "122102    ted   \n",
       "27705     ted   \n",
       "84265     ted   \n",
       "\n",
       "                                                          english_sentence  \\\n",
       "25332                                           makes you smile very often   \n",
       "71092                               so where i started was with connection   \n",
       "2980                          so for example in iraq you know the war zone   \n",
       "74189                                    with the mindset to create change   \n",
       "91153                                       or where you can trash the cup   \n",
       "120030     you can have million families or take things out of the suburbs   \n",
       "85425                                         of men wanting a certificate   \n",
       "122102                                       and ultimately it seems to me   \n",
       "27705   if the flag was where that cross was in a small square environment   \n",
       "84265                                        that failure is not an option   \n",
       "\n",
       "                                                                        hindi_sentence  \\\n",
       "25332                              START_ आपको भी मुस्कुराने पर मजबूर कर देते हैं _END   \n",
       "71092                             START_ तो मेंने जहाँ से शुरुआत की वो था संपर्क। _END   \n",
       "2980                   START_ तो उदाहरण के लिए इराक में आप जानते है युद्ध क्षेत्र _END   \n",
       "74189                   START_ जो बदलाव लाने के लिये मानसिक रूप से प्रतिबद्ध हैं। _END   \n",
       "91153                                   START_ या कहाँ मैं कप को फ़ेंक सकता हूँ । _END   \n",
       "120030                      START_ आप लाख परिवारों को उपनगरों के बाहर ला सकते हैं _END   \n",
       "85425                                     START_ आदमियों की एक प्रमाणपत्र चाहिये। _END   \n",
       "122102                                   START_ और अंत में जैसा की मैं देख रहा हु _END   \n",
       "27705   START_ अगर फ्लैग वहाँ पर था जहाँ पर क्रॉस था एक छोटे वर्गाकार वातावरण में _END   \n",
       "84265                                          START_ कि विफलता एक विकल्प नहीं है _END   \n",
       "\n",
       "        length_eng_sentence  length_hin_sentence  \n",
       "25332                     5                   10  \n",
       "71092                     7                   11  \n",
       "2980                     10                   13  \n",
       "74189                     6                   12  \n",
       "91153                     7                   11  \n",
       "120030                   12                   12  \n",
       "85425                     5                    7  \n",
       "122102                    6                   11  \n",
       "27705                    13                   16  \n",
       "84265                     6                    8  "
      ]
     },
     "execution_count": 21,
     "metadata": {},
     "output_type": "execute_result"
    }
   ],
   "source": [
    "#Apply zero padding\n",
    "num_decoder_tokens += 1 \n",
    "input_token_index = dict([(word, i+1) for i, word in enumerate(input_words)])\n",
    "target_token_index = dict([(word, i+1) for i, word in enumerate(target_words)])\n",
    "reverse_input_char_index = dict((i, word) for word, i in input_token_index.items())\n",
    "reverse_target_char_index = dict((i, word) for word, i in target_token_index.items())\n",
    "data = shuffle(data)\n",
    "data.head(10)"
   ]
  },
  {
   "cell_type": "markdown",
   "metadata": {
    "id": "VJMDfMbbqzJr"
   },
   "source": [
    "<a id=section51></a>\n",
    "\n",
    "---\n",
    "## **8.4 Feature Extraction**\n",
    "---\n",
    "\n",
    "- Here we will make our data in a format that our model is able to understand."
   ]
  },
  {
   "cell_type": "code",
   "execution_count": 22,
   "metadata": {
    "execution": {
     "iopub.execute_input": "2021-11-10T06:43:30.350320Z",
     "iopub.status.busy": "2021-11-10T06:43:30.349695Z",
     "iopub.status.idle": "2021-11-10T06:43:30.369121Z",
     "shell.execute_reply": "2021-11-10T06:43:30.368492Z",
     "shell.execute_reply.started": "2021-11-10T06:43:30.350285Z"
    },
    "id": "01IB4dxCq2Au",
    "outputId": "1702db2d-1946-4b8b-e203-b59b1b4367ed"
   },
   "outputs": [
    {
     "name": "stdout",
     "output_type": "stream",
     "text": [
      "Train and test shape\n",
      "**************************************************\n",
      "X_train.shape:  (19819,)\n",
      "y_train.shape:  (19819,)\n",
      "X_test.shape:  (4955,)\n",
      "y_test.shape:  (4955,)\n",
      "**************************************************\n"
     ]
    }
   ],
   "source": [
    "# Defining features and Target from Training data for training and validation \n",
    "X, y = data['english_sentence'], data['hindi_sentence']\n",
    "\n",
    "# Defining X_train, X_test , y_train and y_test\n",
    "X_train, X_test, y_train, y_test = train_test_split(X, y,\n",
    "                                                    test_size = 0.2,\n",
    "                                                    random_state=42)\n",
    "# Checking the shape\n",
    "print('Train and test shape')\n",
    "print('*'*50)\n",
    "print('X_train.shape: ', X_train.shape)\n",
    "print('y_train.shape: ', y_train.shape)\n",
    "print('X_test.shape: ', X_test.shape)\n",
    "print('y_test.shape: ', y_test.shape)\n",
    "print('*'*50)"
   ]
  },
  {
   "cell_type": "code",
   "execution_count": 23,
   "metadata": {
    "execution": {
     "iopub.execute_input": "2021-11-10T06:43:30.372122Z",
     "iopub.status.busy": "2021-11-10T06:43:30.371854Z",
     "iopub.status.idle": "2021-11-10T06:43:30.401047Z",
     "shell.execute_reply": "2021-11-10T06:43:30.400405Z",
     "shell.execute_reply.started": "2021-11-10T06:43:30.372095Z"
    },
    "id": "roEwNiqfrRm3"
   },
   "outputs": [],
   "source": [
    "# Saving the data into pickle files\n",
    "X_train.to_pickle('x_train.pkl')\n",
    "X_test.to_pickle('x_test.pkl')\n",
    "y_train.to_pickle('y_train.pkl')\n",
    "y_test.to_pickle('y_test.pkl')"
   ]
  },
  {
   "cell_type": "markdown",
   "metadata": {
    "id": "7z8aaEdsrWQI"
   },
   "source": [
    "<a id=section7></a>\n",
    "\n",
    "---\n",
    "# **9. Model Building**\n",
    "---\n"
   ]
  },
  {
   "cell_type": "markdown",
   "metadata": {
    "id": "288zvoJWs5qZ"
   },
   "source": [
    "<a id=section7></a>\n",
    "\n",
    "---\n",
    "### **9.1 Separating data into batches for training**\n",
    "---\n",
    "\n",
    "- Here, first we will **make batches** in order to break the data into small number of pieces.\n",
    "\n",
    "- After that we will setup the decoder that will **decode** the **encoded** data for us."
   ]
  },
  {
   "cell_type": "code",
   "execution_count": 24,
   "metadata": {
    "execution": {
     "iopub.execute_input": "2021-11-10T06:43:30.402922Z",
     "iopub.status.busy": "2021-11-10T06:43:30.402212Z",
     "iopub.status.idle": "2021-11-10T06:43:30.411695Z",
     "shell.execute_reply": "2021-11-10T06:43:30.411097Z",
     "shell.execute_reply.started": "2021-11-10T06:43:30.402886Z"
    },
    "id": "e-OzPbGYrXWO"
   },
   "outputs": [],
   "source": [
    "def generate_batch(X = X_train, y = y_train, batch_size = 128):\n",
    "    while True:\n",
    "        for j in range(0, len(X), batch_size):\n",
    "            encoder_input_data = np.zeros((batch_size, max_length_src),dtype='float32')\n",
    "            decoder_input_data = np.zeros((batch_size, max_length_tar),dtype='float32')\n",
    "            decoder_target_data = np.zeros((batch_size, max_length_tar, num_decoder_tokens),dtype='float32')\n",
    "            for i, (input_text, target_text) in enumerate(zip(X[j:j+batch_size], y[j:j+batch_size])):\n",
    "                for t, word in enumerate(input_text.split()):\n",
    "                    encoder_input_data[i, t] = input_token_index[word] # encoder input seq\n",
    "                for t, word in enumerate(target_text.split()):\n",
    "                    if t<len(target_text.split())-1:\n",
    "                        decoder_input_data[i, t] = target_token_index[word] # decoder input seq\n",
    "                    if t>0:\n",
    "                        # Offset by one timestep\n",
    "                        decoder_target_data[i, t - 1, target_token_index[word]] = 1.\n",
    "            yield([encoder_input_data, decoder_input_data], decoder_target_data)"
   ]
  },
  {
   "cell_type": "markdown",
   "metadata": {
    "id": "o8eGXyaOrj9B"
   },
   "source": [
    "<a id=section7></a>\n",
    "\n",
    "---\n",
    "### **9.2 Encoder-Decoder Architecture**\n",
    "---\n",
    "\n",
    "- Here, we will define the architecture of the **encoder-decoder** model and train it with the genarated data. "
   ]
  },
  {
   "cell_type": "code",
   "execution_count": 25,
   "metadata": {
    "execution": {
     "iopub.execute_input": "2021-11-10T06:43:30.413369Z",
     "iopub.status.busy": "2021-11-10T06:43:30.412729Z",
     "iopub.status.idle": "2021-11-10T06:43:30.423149Z",
     "shell.execute_reply": "2021-11-10T06:43:30.422429Z",
     "shell.execute_reply.started": "2021-11-10T06:43:30.413334Z"
    },
    "id": "6YlZZs0ptPD0"
   },
   "outputs": [],
   "source": [
    "# Defining the latent dimention of 300\n",
    "latent_dim=300"
   ]
  },
  {
   "cell_type": "code",
   "execution_count": 26,
   "metadata": {
    "execution": {
     "iopub.execute_input": "2021-11-10T06:43:30.425026Z",
     "iopub.status.busy": "2021-11-10T06:43:30.424392Z",
     "iopub.status.idle": "2021-11-10T06:43:33.987939Z",
     "shell.execute_reply": "2021-11-10T06:43:33.987153Z",
     "shell.execute_reply.started": "2021-11-10T06:43:30.424988Z"
    },
    "id": "Nlzv8_sFrnDi"
   },
   "outputs": [
    {
     "name": "stderr",
     "output_type": "stream",
     "text": [
      "2021-11-10 06:43:30.507715: I tensorflow/stream_executor/cuda/cuda_gpu_executor.cc:937] successful NUMA node read from SysFS had negative value (-1), but there must be at least one NUMA node, so returning NUMA node zero\n",
      "2021-11-10 06:43:30.508835: I tensorflow/stream_executor/cuda/cuda_gpu_executor.cc:937] successful NUMA node read from SysFS had negative value (-1), but there must be at least one NUMA node, so returning NUMA node zero\n",
      "2021-11-10 06:43:30.509491: I tensorflow/stream_executor/cuda/cuda_gpu_executor.cc:937] successful NUMA node read from SysFS had negative value (-1), but there must be at least one NUMA node, so returning NUMA node zero\n",
      "2021-11-10 06:43:30.510711: I tensorflow/core/platform/cpu_feature_guard.cc:142] This TensorFlow binary is optimized with oneAPI Deep Neural Network Library (oneDNN) to use the following CPU instructions in performance-critical operations:  AVX2 AVX512F FMA\n",
      "To enable them in other operations, rebuild TensorFlow with the appropriate compiler flags.\n",
      "2021-11-10 06:43:30.511819: I tensorflow/stream_executor/cuda/cuda_gpu_executor.cc:937] successful NUMA node read from SysFS had negative value (-1), but there must be at least one NUMA node, so returning NUMA node zero\n",
      "2021-11-10 06:43:30.512464: I tensorflow/stream_executor/cuda/cuda_gpu_executor.cc:937] successful NUMA node read from SysFS had negative value (-1), but there must be at least one NUMA node, so returning NUMA node zero\n",
      "2021-11-10 06:43:30.513092: I tensorflow/stream_executor/cuda/cuda_gpu_executor.cc:937] successful NUMA node read from SysFS had negative value (-1), but there must be at least one NUMA node, so returning NUMA node zero\n",
      "2021-11-10 06:43:32.557281: I tensorflow/stream_executor/cuda/cuda_gpu_executor.cc:937] successful NUMA node read from SysFS had negative value (-1), but there must be at least one NUMA node, so returning NUMA node zero\n",
      "2021-11-10 06:43:32.558096: I tensorflow/stream_executor/cuda/cuda_gpu_executor.cc:937] successful NUMA node read from SysFS had negative value (-1), but there must be at least one NUMA node, so returning NUMA node zero\n",
      "2021-11-10 06:43:32.558795: I tensorflow/stream_executor/cuda/cuda_gpu_executor.cc:937] successful NUMA node read from SysFS had negative value (-1), but there must be at least one NUMA node, so returning NUMA node zero\n",
      "2021-11-10 06:43:32.559375: I tensorflow/core/common_runtime/gpu/gpu_device.cc:1510] Created device /job:localhost/replica:0/task:0/device:GPU:0 with 15385 MB memory:  -> device: 0, name: Tesla P100-PCIE-16GB, pci bus id: 0000:00:04.0, compute capability: 6.0\n"
     ]
    }
   ],
   "source": [
    "# Encoder Layer:\n",
    "encoder_inputs = Input(shape=(None,))\n",
    "\n",
    "# Embedding encoder\n",
    "enc_emb =  Embedding(num_encoder_tokens, latent_dim, mask_zero = True)(encoder_inputs)\n",
    "\n",
    "# calling LSTM\n",
    "encoder_lstm = LSTM(latent_dim, return_state=True)\n",
    "\n",
    "# Genarating Encoder Outputs and respective states\n",
    "encoder_outputs, state_h, state_c = encoder_lstm(enc_emb)\n",
    "\n",
    "# Discarding `encoder_outputs` and only keep the states.\n",
    "encoder_states = [state_h, state_c]"
   ]
  },
  {
   "cell_type": "code",
   "execution_count": 27,
   "metadata": {
    "execution": {
     "iopub.execute_input": "2021-11-10T06:43:33.989395Z",
     "iopub.status.busy": "2021-11-10T06:43:33.989132Z",
     "iopub.status.idle": "2021-11-10T06:43:33.996322Z",
     "shell.execute_reply": "2021-11-10T06:43:33.995598Z",
     "shell.execute_reply.started": "2021-11-10T06:43:33.989361Z"
    },
    "id": "5t8zPTggXwce",
    "outputId": "25cf342c-58d4-4601-9f63-af898b70c7a3"
   },
   "outputs": [
    {
     "data": {
      "text/plain": [
       "<KerasTensor: shape=(None, None) dtype=float32 (created by layer 'input_1')>"
      ]
     },
     "execution_count": 27,
     "metadata": {},
     "output_type": "execute_result"
    }
   ],
   "source": [
    "encoder_inputs"
   ]
  },
  {
   "cell_type": "code",
   "execution_count": 28,
   "metadata": {
    "execution": {
     "iopub.execute_input": "2021-11-10T06:43:33.998475Z",
     "iopub.status.busy": "2021-11-10T06:43:33.997632Z",
     "iopub.status.idle": "2021-11-10T06:43:34.007712Z",
     "shell.execute_reply": "2021-11-10T06:43:34.006895Z",
     "shell.execute_reply.started": "2021-11-10T06:43:33.998437Z"
    },
    "id": "AJhClEusXzCE",
    "outputId": "8be044a0-d169-4b12-89ab-23215d9e06f2"
   },
   "outputs": [
    {
     "data": {
      "text/plain": [
       "<KerasTensor: shape=(None, None, 300) dtype=float32 (created by layer 'embedding')>"
      ]
     },
     "execution_count": 28,
     "metadata": {},
     "output_type": "execute_result"
    }
   ],
   "source": [
    "enc_emb"
   ]
  },
  {
   "cell_type": "code",
   "execution_count": 29,
   "metadata": {
    "execution": {
     "iopub.execute_input": "2021-11-10T06:43:34.009428Z",
     "iopub.status.busy": "2021-11-10T06:43:34.009042Z",
     "iopub.status.idle": "2021-11-10T06:43:34.018990Z",
     "shell.execute_reply": "2021-11-10T06:43:34.018273Z",
     "shell.execute_reply.started": "2021-11-10T06:43:34.009392Z"
    },
    "id": "kOwefFrXX082",
    "outputId": "a54bafbd-dd2c-40d7-8618-8f0205741346"
   },
   "outputs": [
    {
     "data": {
      "text/plain": [
       "<keras.layers.recurrent_v2.LSTM at 0x7fb9d0121650>"
      ]
     },
     "execution_count": 29,
     "metadata": {},
     "output_type": "execute_result"
    }
   ],
   "source": [
    "encoder_lstm"
   ]
  },
  {
   "cell_type": "code",
   "execution_count": 30,
   "metadata": {
    "execution": {
     "iopub.execute_input": "2021-11-10T06:43:34.020704Z",
     "iopub.status.busy": "2021-11-10T06:43:34.020384Z",
     "iopub.status.idle": "2021-11-10T06:43:34.029813Z",
     "shell.execute_reply": "2021-11-10T06:43:34.029039Z",
     "shell.execute_reply.started": "2021-11-10T06:43:34.020668Z"
    },
    "id": "vpN9WeVwX5zy",
    "outputId": "1775ea5a-daa7-476b-b071-64bb58086a30"
   },
   "outputs": [
    {
     "data": {
      "text/plain": [
       "(<KerasTensor: shape=(None, 300) dtype=float32 (created by layer 'lstm')>,\n",
       " <KerasTensor: shape=(None, 300) dtype=float32 (created by layer 'lstm')>,\n",
       " <KerasTensor: shape=(None, 300) dtype=float32 (created by layer 'lstm')>)"
      ]
     },
     "execution_count": 30,
     "metadata": {},
     "output_type": "execute_result"
    }
   ],
   "source": [
    "encoder_outputs, state_h, state_c"
   ]
  },
  {
   "cell_type": "code",
   "execution_count": 31,
   "metadata": {
    "execution": {
     "iopub.execute_input": "2021-11-10T06:43:34.035580Z",
     "iopub.status.busy": "2021-11-10T06:43:34.035302Z",
     "iopub.status.idle": "2021-11-10T06:43:34.043986Z",
     "shell.execute_reply": "2021-11-10T06:43:34.043178Z",
     "shell.execute_reply.started": "2021-11-10T06:43:34.035495Z"
    },
    "id": "tJThh2FkX9se",
    "outputId": "2f97ed15-b671-4c14-c405-60fbc7981912"
   },
   "outputs": [
    {
     "data": {
      "text/plain": [
       "[<KerasTensor: shape=(None, 300) dtype=float32 (created by layer 'lstm')>,\n",
       " <KerasTensor: shape=(None, 300) dtype=float32 (created by layer 'lstm')>]"
      ]
     },
     "execution_count": 31,
     "metadata": {},
     "output_type": "execute_result"
    }
   ],
   "source": [
    "encoder_states"
   ]
  },
  {
   "cell_type": "code",
   "execution_count": 32,
   "metadata": {
    "execution": {
     "iopub.execute_input": "2021-11-10T06:43:34.046199Z",
     "iopub.status.busy": "2021-11-10T06:43:34.045288Z",
     "iopub.status.idle": "2021-11-10T06:43:34.838914Z",
     "shell.execute_reply": "2021-11-10T06:43:34.837939Z",
     "shell.execute_reply.started": "2021-11-10T06:43:34.046164Z"
    },
    "id": "T3YLXsLVsAGL"
   },
   "outputs": [],
   "source": [
    "# Decoder Layer\n",
    "# Settinf up decoder inputs, using `encoder_states` as initial state.\n",
    "decoder_inputs = Input(shape=(None,))\n",
    "dec_emb_layer = Embedding(num_decoder_tokens, latent_dim, mask_zero = True)\n",
    "dec_emb = dec_emb_layer(decoder_inputs)\n",
    "\n",
    "# genarating decoder LSTM\n",
    "decoder_lstm = LSTM(latent_dim, return_sequences=True, return_state=True)\n",
    "decoder_outputs, _, _ = decoder_lstm(dec_emb,\n",
    "                                     initial_state=encoder_states)\n",
    "decoder_dense = Dense(num_decoder_tokens, activation='softmax')\n",
    "decoder_outputs = decoder_dense(decoder_outputs)\n",
    "\n",
    "# Define the model that will turn\n",
    "# `encoder_input_data` & `decoder_input_data` into `decoder_target_data`\n",
    "model = Model([encoder_inputs, decoder_inputs], decoder_outputs)\n",
    "\n",
    "# Model Compilation\n",
    "model.compile(optimizer='rmsprop',\n",
    "              loss='categorical_crossentropy')"
   ]
  },
  {
   "cell_type": "code",
   "execution_count": 33,
   "metadata": {
    "execution": {
     "iopub.execute_input": "2021-11-10T06:43:34.842267Z",
     "iopub.status.busy": "2021-11-10T06:43:34.842053Z",
     "iopub.status.idle": "2021-11-10T06:43:34.853083Z",
     "shell.execute_reply": "2021-11-10T06:43:34.852220Z",
     "shell.execute_reply.started": "2021-11-10T06:43:34.842243Z"
    },
    "id": "eVN6NHl7sGq_",
    "outputId": "d71b2853-1edf-4c90-e528-4769ed9b758d"
   },
   "outputs": [
    {
     "name": "stdout",
     "output_type": "stream",
     "text": [
      "Model: \"model\"\n",
      "__________________________________________________________________________________________________\n",
      "Layer (type)                    Output Shape         Param #     Connected to                     \n",
      "==================================================================================================\n",
      "input_1 (InputLayer)            [(None, None)]       0                                            \n",
      "__________________________________________________________________________________________________\n",
      "input_2 (InputLayer)            [(None, None)]       0                                            \n",
      "__________________________________________________________________________________________________\n",
      "embedding (Embedding)           (None, None, 300)    4209000     input_1[0][0]                    \n",
      "__________________________________________________________________________________________________\n",
      "embedding_1 (Embedding)         (None, None, 300)    5262300     input_2[0][0]                    \n",
      "__________________________________________________________________________________________________\n",
      "lstm (LSTM)                     [(None, 300), (None, 721200      embedding[0][0]                  \n",
      "__________________________________________________________________________________________________\n",
      "lstm_1 (LSTM)                   [(None, None, 300),  721200      embedding_1[0][0]                \n",
      "                                                                 lstm[0][1]                       \n",
      "                                                                 lstm[0][2]                       \n",
      "__________________________________________________________________________________________________\n",
      "dense (Dense)                   (None, None, 17541)  5279841     lstm_1[0][0]                     \n",
      "==================================================================================================\n",
      "Total params: 16,193,541\n",
      "Trainable params: 16,193,541\n",
      "Non-trainable params: 0\n",
      "__________________________________________________________________________________________________\n"
     ]
    }
   ],
   "source": [
    "model.summary()"
   ]
  },
  {
   "cell_type": "markdown",
   "metadata": {
    "id": "EWnL9pwFuZDw"
   },
   "source": [
    "<a id=section7></a>\n",
    "\n",
    "---\n",
    "### **9.3 Training the model**\n",
    "---\n",
    "\n",
    "- Here, we will train the model with the default parameters and then we will check the performence. "
   ]
  },
  {
   "cell_type": "code",
   "execution_count": 34,
   "metadata": {
    "execution": {
     "iopub.execute_input": "2021-11-10T06:43:34.856629Z",
     "iopub.status.busy": "2021-11-10T06:43:34.856379Z",
     "iopub.status.idle": "2021-11-10T06:43:34.862228Z",
     "shell.execute_reply": "2021-11-10T06:43:34.861410Z",
     "shell.execute_reply.started": "2021-11-10T06:43:34.856603Z"
    },
    "id": "oaugmcu8umoy"
   },
   "outputs": [],
   "source": [
    "train_samples = len(X_train)\n",
    "val_samples = len(X_test)\n",
    "batch_size = 128\n",
    "epochs = 30"
   ]
  },
  {
   "cell_type": "code",
   "execution_count": 35,
   "metadata": {
    "execution": {
     "iopub.execute_input": "2021-11-10T06:43:34.863741Z",
     "iopub.status.busy": "2021-11-10T06:43:34.863471Z",
     "iopub.status.idle": "2021-11-10T06:43:34.872377Z",
     "shell.execute_reply": "2021-11-10T06:43:34.871428Z",
     "shell.execute_reply.started": "2021-11-10T06:43:34.863710Z"
    },
    "id": "b2V_yryISshZ",
    "outputId": "dfd0f95c-eadf-4575-a3e3-ec8b48896fab"
   },
   "outputs": [
    {
     "data": {
      "text/plain": [
       "(19819, 4955)"
      ]
     },
     "execution_count": 35,
     "metadata": {},
     "output_type": "execute_result"
    }
   ],
   "source": [
    "train_samples,val_samples"
   ]
  },
  {
   "cell_type": "code",
   "execution_count": 36,
   "metadata": {
    "execution": {
     "iopub.execute_input": "2021-11-10T06:43:34.875743Z",
     "iopub.status.busy": "2021-11-10T06:43:34.874876Z",
     "iopub.status.idle": "2021-11-10T07:10:36.486940Z",
     "shell.execute_reply": "2021-11-10T07:10:36.486219Z",
     "shell.execute_reply.started": "2021-11-10T06:43:34.875703Z"
    },
    "id": "ILESM5xsSr8Y",
    "outputId": "567e5a7d-8814-4bf2-935c-c7179c228ad5"
   },
   "outputs": [
    {
     "name": "stderr",
     "output_type": "stream",
     "text": [
      "2021-11-10 06:43:35.232400: I tensorflow/compiler/mlir/mlir_graph_optimization_pass.cc:185] None of the MLIR Optimization Passes are enabled (registered 2)\n"
     ]
    },
    {
     "name": "stdout",
     "output_type": "stream",
     "text": [
      "Epoch 1/30\n"
     ]
    },
    {
     "name": "stderr",
     "output_type": "stream",
     "text": [
      "2021-11-10 06:43:42.259390: I tensorflow/stream_executor/cuda/cuda_dnn.cc:369] Loaded cuDNN version 8005\n"
     ]
    },
    {
     "name": "stdout",
     "output_type": "stream",
     "text": [
      "154/154 [==============================] - 64s 363ms/step - loss: 3.0130 - val_loss: 2.8382\n",
      "Epoch 2/30\n",
      "154/154 [==============================] - 54s 350ms/step - loss: 2.7392 - val_loss: 2.6653\n",
      "Epoch 3/30\n",
      "154/154 [==============================] - 54s 353ms/step - loss: 2.5729 - val_loss: 2.5937\n",
      "Epoch 4/30\n",
      "154/154 [==============================] - 54s 350ms/step - loss: 2.4637 - val_loss: 2.5436\n",
      "Epoch 5/30\n",
      "154/154 [==============================] - 55s 356ms/step - loss: 2.3741 - val_loss: 2.5065\n",
      "Epoch 6/30\n",
      "154/154 [==============================] - 54s 353ms/step - loss: 2.2912 - val_loss: 2.4731\n",
      "Epoch 7/30\n",
      "154/154 [==============================] - 54s 351ms/step - loss: 2.2119 - val_loss: 2.4537\n",
      "Epoch 8/30\n",
      "154/154 [==============================] - 54s 350ms/step - loss: 2.1374 - val_loss: 2.4444\n",
      "Epoch 9/30\n",
      "154/154 [==============================] - 54s 352ms/step - loss: 2.0677 - val_loss: 2.4195\n",
      "Epoch 10/30\n",
      "154/154 [==============================] - 53s 349ms/step - loss: 2.0003 - val_loss: 2.4184\n",
      "Epoch 11/30\n",
      "154/154 [==============================] - 54s 350ms/step - loss: 1.9342 - val_loss: 2.4144\n",
      "Epoch 12/30\n",
      "154/154 [==============================] - 54s 355ms/step - loss: 1.8710 - val_loss: 2.4202\n",
      "Epoch 13/30\n",
      "154/154 [==============================] - 54s 352ms/step - loss: 1.8091 - val_loss: 2.4246\n",
      "Epoch 14/30\n",
      "154/154 [==============================] - 53s 347ms/step - loss: 1.7491 - val_loss: 2.4313\n",
      "Epoch 15/30\n",
      "154/154 [==============================] - 54s 352ms/step - loss: 1.6896 - val_loss: 2.4451\n",
      "Epoch 16/30\n",
      "154/154 [==============================] - 54s 349ms/step - loss: 1.6324 - val_loss: 2.4483\n",
      "Epoch 17/30\n",
      "154/154 [==============================] - 53s 349ms/step - loss: 1.5752 - val_loss: 2.4663\n",
      "Epoch 18/30\n",
      "154/154 [==============================] - 54s 350ms/step - loss: 1.5172 - val_loss: 2.4814\n",
      "Epoch 19/30\n",
      "154/154 [==============================] - 53s 347ms/step - loss: 1.4629 - val_loss: 2.4997\n",
      "Epoch 20/30\n",
      "154/154 [==============================] - 54s 350ms/step - loss: 1.4093 - val_loss: 2.5126\n",
      "Epoch 21/30\n",
      "154/154 [==============================] - 53s 348ms/step - loss: 1.3564 - val_loss: 2.5346\n",
      "Epoch 22/30\n",
      "154/154 [==============================] - 53s 345ms/step - loss: 1.3047 - val_loss: 2.5599\n",
      "Epoch 23/30\n",
      "154/154 [==============================] - 54s 350ms/step - loss: 1.2535 - val_loss: 2.5732\n",
      "Epoch 24/30\n",
      "154/154 [==============================] - 54s 352ms/step - loss: 1.2045 - val_loss: 2.5945\n",
      "Epoch 25/30\n",
      "154/154 [==============================] - 53s 347ms/step - loss: 1.1568 - val_loss: 2.6249\n",
      "Epoch 26/30\n",
      "154/154 [==============================] - 54s 350ms/step - loss: 1.1101 - val_loss: 2.6530\n",
      "Epoch 27/30\n",
      "154/154 [==============================] - 53s 349ms/step - loss: 1.0644 - val_loss: 2.6635\n",
      "Epoch 28/30\n",
      "154/154 [==============================] - 53s 347ms/step - loss: 1.0201 - val_loss: 2.6882\n",
      "Epoch 29/30\n",
      "154/154 [==============================] - 53s 348ms/step - loss: 0.9768 - val_loss: 2.7194\n",
      "Epoch 30/30\n",
      "154/154 [==============================] - 54s 349ms/step - loss: 0.9351 - val_loss: 2.7456\n"
     ]
    }
   ],
   "source": [
    "history = model.fit_generator(generator = generate_batch(X_train, y_train, batch_size = batch_size),\n",
    "                              steps_per_epoch = train_samples//batch_size,\n",
    "                              epochs=epochs,\n",
    "                              validation_data = generate_batch(X_test, y_test, batch_size = batch_size),\n",
    "                              validation_steps = val_samples//batch_size)"
   ]
  },
  {
   "cell_type": "code",
   "execution_count": 37,
   "metadata": {
    "execution": {
     "iopub.execute_input": "2021-11-10T07:10:36.489072Z",
     "iopub.status.busy": "2021-11-10T07:10:36.488807Z",
     "iopub.status.idle": "2021-11-10T07:10:36.608073Z",
     "shell.execute_reply": "2021-11-10T07:10:36.607277Z",
     "shell.execute_reply.started": "2021-11-10T07:10:36.489036Z"
    },
    "id": "MR5EUf7duxCD"
   },
   "outputs": [],
   "source": [
    "model.save_weights('nmt_weights.h5')"
   ]
  },
  {
   "cell_type": "code",
   "execution_count": 38,
   "metadata": {
    "execution": {
     "iopub.execute_input": "2021-11-10T07:10:36.609712Z",
     "iopub.status.busy": "2021-11-10T07:10:36.609409Z",
     "iopub.status.idle": "2021-11-10T07:10:36.614322Z",
     "shell.execute_reply": "2021-11-10T07:10:36.613597Z",
     "shell.execute_reply.started": "2021-11-10T07:10:36.609673Z"
    }
   },
   "outputs": [],
   "source": [
    "# # Number of epochs VS accuracy\n",
    "# acc = history.history['accuracy']\n",
    "# val_acc = history.history['val_accuracy']\n",
    "# plt.figure(figsize=(8, 8))\n",
    "# plt.subplot(1, 2, 1)\n",
    "# plt.plot(epochs_range, acc, label='Training Accuracy')\n",
    "# plt.plot(epochs_range, val_acc, label='Validation Accuracy')\n",
    "# plt.legend(loc='lower right')\n",
    "# plt.title('Training and Validation Accuracy')\n",
    "\n",
    "# # Number of epochs VS loss\n",
    "# loss = history.history['loss']\n",
    "# val_loss = history.history['val_loss']\n",
    "# plt.subplot(1, 2, 2)\n",
    "# plt.plot(epochs_range, loss, label='Training Loss')\n",
    "# plt.plot(epochs_range, val_loss, label='Validation Loss')\n",
    "# plt.legend(loc='upper right')\n",
    "# plt.title('Training and Validation Loss')\n",
    "# plt.show()"
   ]
  },
  {
   "cell_type": "markdown",
   "metadata": {
    "id": "Ydmowa9uu62i"
   },
   "source": [
    "<a id=section7></a>\n",
    "\n",
    "---\n",
    "### **9.4 Encoding the entire sequence**\n",
    "---\n",
    "\n",
    "- Here, we will encode the input sequence to get the thought vectors. "
   ]
  },
  {
   "cell_type": "code",
   "execution_count": 39,
   "metadata": {
    "execution": {
     "iopub.execute_input": "2021-11-10T07:10:36.616248Z",
     "iopub.status.busy": "2021-11-10T07:10:36.615522Z",
     "iopub.status.idle": "2021-11-10T07:10:37.320094Z",
     "shell.execute_reply": "2021-11-10T07:10:37.319335Z",
     "shell.execute_reply.started": "2021-11-10T07:10:36.616213Z"
    },
    "id": "kIPhUA-xu1K_"
   },
   "outputs": [],
   "source": [
    "# Encode the input sequence to get the \"thought vectors\"\n",
    "encoder_model = Model(encoder_inputs, encoder_states)\n",
    "\n",
    "# Decoder setup\n",
    "# Below tensors will hold the states of the previous time step\n",
    "decoder_state_input_h = Input(shape=(latent_dim,))\n",
    "decoder_state_input_c = Input(shape=(latent_dim,))\n",
    "decoder_states_inputs = [decoder_state_input_h, decoder_state_input_c]\n",
    "\n",
    "dec_emb2= dec_emb_layer(decoder_inputs) # Get the embeddings of the decoder sequence\n",
    "\n",
    "# To predict the next word in the sequence, set the initial states to the states from the previous time step\n",
    "decoder_outputs2, state_h2, state_c2 = decoder_lstm(dec_emb2, initial_state=decoder_states_inputs)\n",
    "decoder_states2 = [state_h2, state_c2]\n",
    "decoder_outputs2 = decoder_dense(decoder_outputs2) # A dense softmax layer to generate prob dist. over the target vocabulary\n",
    "\n",
    "# Final decoder model\n",
    "decoder_model = Model(\n",
    "    [decoder_inputs] + decoder_states_inputs,\n",
    "    [decoder_outputs2] + decoder_states2)\n"
   ]
  },
  {
   "cell_type": "markdown",
   "metadata": {
    "id": "okYWPAn3vOav"
   },
   "source": [
    "<a id=section7></a>\n",
    "\n",
    "---\n",
    "### **9.5 Decoding the entire sequence**\n",
    "---\n",
    "\n",
    "- Here, we will decode the output sequence of the encoded data. "
   ]
  },
  {
   "cell_type": "code",
   "execution_count": 40,
   "metadata": {
    "execution": {
     "iopub.execute_input": "2021-11-10T07:10:37.321820Z",
     "iopub.status.busy": "2021-11-10T07:10:37.321565Z",
     "iopub.status.idle": "2021-11-10T07:10:37.329265Z",
     "shell.execute_reply": "2021-11-10T07:10:37.328585Z",
     "shell.execute_reply.started": "2021-11-10T07:10:37.321786Z"
    },
    "id": "zoiAUrmrvVYO"
   },
   "outputs": [],
   "source": [
    "def decode_sequence(input_seq):\n",
    "    # Encode the input as state vectors.\n",
    "    states_value = encoder_model.predict(input_seq)\n",
    "    # Generate empty target sequence of length 1.\n",
    "    target_seq = np.zeros((1,1))\n",
    "    # Populate the first character of target sequence with the start character.\n",
    "    target_seq[0, 0] = target_token_index['START_']\n",
    "\n",
    "    # Sampling loop for a batch of sequences\n",
    "    # (to simplify, here we assume a batch of size 1).\n",
    "    stop_condition = False\n",
    "    decoded_sentence = ''\n",
    "    while not stop_condition:\n",
    "        output_tokens, h, c = decoder_model.predict([target_seq] + states_value)\n",
    "\n",
    "        # Sample a token\n",
    "        sampled_token_index = np.argmax(output_tokens[0, -1, :])\n",
    "        sampled_char = reverse_target_char_index[sampled_token_index]\n",
    "        decoded_sentence += ' '+sampled_char\n",
    "\n",
    "        # Exit condition: either hit max length\n",
    "        # or find stop character.\n",
    "        if (sampled_char == '_END' or\n",
    "           len(decoded_sentence) > 50):\n",
    "            stop_condition = True\n",
    "\n",
    "        # Update the target sequence (of length 1).\n",
    "        target_seq = np.zeros((1,1))\n",
    "        target_seq[0, 0] = sampled_token_index\n",
    "\n",
    "        # Update states\n",
    "        states_value = [h, c]\n",
    "\n",
    "    return decoded_sentence"
   ]
  },
  {
   "cell_type": "markdown",
   "metadata": {
    "id": "T1SJF-xsvcop"
   },
   "source": [
    "<a id=section7></a>\n",
    "\n",
    "---\n",
    "# **9. Making Predictions**\n",
    "---\n"
   ]
  },
  {
   "cell_type": "code",
   "execution_count": 41,
   "metadata": {
    "execution": {
     "iopub.execute_input": "2021-11-10T07:10:37.331145Z",
     "iopub.status.busy": "2021-11-10T07:10:37.330670Z",
     "iopub.status.idle": "2021-11-10T07:10:37.344438Z",
     "shell.execute_reply": "2021-11-10T07:10:37.343667Z",
     "shell.execute_reply.started": "2021-11-10T07:10:37.331110Z"
    },
    "id": "jjRChDhwvew2"
   },
   "outputs": [],
   "source": [
    "# Calling the generate_batch function  \n",
    "train_gen = generate_batch(X_train, y_train, batch_size = 1)\n",
    "k=-1"
   ]
  },
  {
   "cell_type": "code",
   "execution_count": 42,
   "metadata": {
    "execution": {
     "iopub.execute_input": "2021-11-10T07:10:37.347252Z",
     "iopub.status.busy": "2021-11-10T07:10:37.346609Z",
     "iopub.status.idle": "2021-11-10T07:10:39.733762Z",
     "shell.execute_reply": "2021-11-10T07:10:39.733030Z",
     "shell.execute_reply.started": "2021-11-10T07:10:37.347213Z"
    },
    "id": "cX46AQoivqIy",
    "outputId": "a383485c-96fe-44ea-9050-49a7ab3df372"
   },
   "outputs": [
    {
     "name": "stdout",
     "output_type": "stream",
     "text": [
      "Input English sentence: help heal the economy\n",
      "Actual Hindi Translation:  अर्थव्यवस्था को सुधारने में मदद कीजिये \n",
      "Predicted Hindi Translation:  अर्थव्यवस्था को बेहतर नहीं है \n"
     ]
    }
   ],
   "source": [
    "k+=1\n",
    "(input_seq, actual_output), _ = next(train_gen)\n",
    "decoded_sentence = decode_sequence(input_seq)\n",
    "print('Input English sentence:', X_train[k:k+1].values[0])\n",
    "print('Actual Hindi Translation:', y_train[k:k+1].values[0][6:-4])\n",
    "print('Predicted Hindi Translation:', decoded_sentence[:-4])"
   ]
  },
  {
   "cell_type": "code",
   "execution_count": 43,
   "metadata": {
    "execution": {
     "iopub.execute_input": "2021-11-10T07:10:39.735862Z",
     "iopub.status.busy": "2021-11-10T07:10:39.735614Z",
     "iopub.status.idle": "2021-11-10T07:10:40.163690Z",
     "shell.execute_reply": "2021-11-10T07:10:40.162938Z",
     "shell.execute_reply.started": "2021-11-10T07:10:39.735828Z"
    },
    "id": "hjpz8aHVvrVT"
   },
   "outputs": [
    {
     "name": "stdout",
     "output_type": "stream",
     "text": [
      "Input English sentence: when im photographing them\n",
      "Actual Hindi Translation:  जब में उनकी फोटो लेते हूँ \n",
      "Predicted Hindi Translation:  जब मैं अपनी गति से चार कहना हूँ \n"
     ]
    }
   ],
   "source": [
    "k+=1\n",
    "(input_seq, actual_output), _ = next(train_gen)\n",
    "decoded_sentence = decode_sequence(input_seq)\n",
    "print('Input English sentence:', X_train[k:k+1].values[0])\n",
    "print('Actual Hindi Translation:', y_train[k:k+1].values[0][6:-4])\n",
    "print('Predicted Hindi Translation:', decoded_sentence[:-4])"
   ]
  },
  {
   "cell_type": "code",
   "execution_count": 44,
   "metadata": {
    "execution": {
     "iopub.execute_input": "2021-11-10T07:10:40.165311Z",
     "iopub.status.busy": "2021-11-10T07:10:40.165055Z",
     "iopub.status.idle": "2021-11-10T07:10:40.520189Z",
     "shell.execute_reply": "2021-11-10T07:10:40.519301Z",
     "shell.execute_reply.started": "2021-11-10T07:10:40.165277Z"
    },
    "id": "c_gvnF4Dvso-"
   },
   "outputs": [
    {
     "name": "stdout",
     "output_type": "stream",
     "text": [
      "Input English sentence: these are all traditional water structures\n",
      "Actual Hindi Translation:  ये सब पारंपरिक पानी के ढाँचे हैं \n",
      "Predicted Hindi Translation:  ये पानी के पानी का रोबोट है \n"
     ]
    }
   ],
   "source": [
    "k+=1\n",
    "(input_seq, actual_output), _ = next(train_gen)\n",
    "decoded_sentence = decode_sequence(input_seq)\n",
    "print('Input English sentence:', X_train[k:k+1].values[0])\n",
    "print('Actual Hindi Translation:', y_train[k:k+1].values[0][6:-4])\n",
    "print('Predicted Hindi Translation:', decoded_sentence[:-4])"
   ]
  },
  {
   "cell_type": "code",
   "execution_count": 45,
   "metadata": {
    "execution": {
     "iopub.execute_input": "2021-11-10T07:10:40.521921Z",
     "iopub.status.busy": "2021-11-10T07:10:40.521677Z",
     "iopub.status.idle": "2021-11-10T07:10:41.078648Z",
     "shell.execute_reply": "2021-11-10T07:10:41.077902Z",
     "shell.execute_reply.started": "2021-11-10T07:10:40.521886Z"
    },
    "id": "Kq9d3v6Yvvlz"
   },
   "outputs": [
    {
     "name": "stdout",
     "output_type": "stream",
     "text": [
      "Input English sentence: to engage properly with a place or a person\n",
      "Actual Hindi Translation:  किसी परिवेश या व्यक्ति से भलीभांति जुड़े बिना \n",
      "Predicted Hindi Translation:  किसी भी किसी अन्य या को दे सकते हैं जो कि \n"
     ]
    }
   ],
   "source": [
    "k+=1\n",
    "(input_seq, actual_output), _ = next(train_gen)\n",
    "decoded_sentence = decode_sequence(input_seq)\n",
    "print('Input English sentence:', X_train[k:k+1].values[0])\n",
    "print('Actual Hindi Translation:', y_train[k:k+1].values[0][6:-4])\n",
    "print('Predicted Hindi Translation:', decoded_sentence[:-4])"
   ]
  },
  {
   "cell_type": "code",
   "execution_count": 46,
   "metadata": {
    "execution": {
     "iopub.execute_input": "2021-11-10T07:10:41.080033Z",
     "iopub.status.busy": "2021-11-10T07:10:41.079786Z",
     "iopub.status.idle": "2021-11-10T07:10:41.486098Z",
     "shell.execute_reply": "2021-11-10T07:10:41.485226Z",
     "shell.execute_reply.started": "2021-11-10T07:10:41.079998Z"
    },
    "id": "ioDVUCczvwpX"
   },
   "outputs": [
    {
     "name": "stdout",
     "output_type": "stream",
     "text": [
      "Input English sentence: of entitlement than a sense of responsibility\n",
      "Actual Hindi Translation:  पात्रता की है न की ज़िम्मेदारी की \n",
      "Predicted Hindi Translation:  उतनी से ज्यादा बुरा भावना की ज़रूरत है \n"
     ]
    }
   ],
   "source": [
    "k+=1\n",
    "(input_seq, actual_output), _ = next(train_gen)\n",
    "decoded_sentence = decode_sequence(input_seq)\n",
    "print('Input English sentence:', X_train[k:k+1].values[0])\n",
    "print('Actual Hindi Translation:', y_train[k:k+1].values[0][6:-4])\n",
    "print('Predicted Hindi Translation:', decoded_sentence[:-4])"
   ]
  }
 ],
 "metadata": {
  "kernelspec": {
   "display_name": "Python 3 (ipykernel)",
   "language": "python",
   "name": "python3"
  },
  "language_info": {
   "codemirror_mode": {
    "name": "ipython",
    "version": 3
   },
   "file_extension": ".py",
   "mimetype": "text/x-python",
   "name": "python",
   "nbconvert_exporter": "python",
   "pygments_lexer": "ipython3",
   "version": "3.9.6"
  }
 },
 "nbformat": 4,
 "nbformat_minor": 4
}
